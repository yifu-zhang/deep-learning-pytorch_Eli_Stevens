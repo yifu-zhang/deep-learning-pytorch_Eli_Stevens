{
 "cells": [
  {
   "cell_type": "markdown",
   "id": "7ac6887a",
   "metadata": {},
   "source": [
    "## Tensors: multidimensional arrays\n",
    "A tensor is an array: that is, a data structure that stores a collection of numbers that are accessible individually using an index, and that can be indexed with multiple indices.\n",
    "\n",
    "### 3.2.2 Constructing our first tensors"
   ]
  },
  {
   "cell_type": "code",
   "execution_count": 6,
   "id": "06475f3a",
   "metadata": {},
   "outputs": [
    {
     "name": "stdout",
     "output_type": "stream",
     "text": [
      "tensor([1., 1., 2.])\n"
     ]
    }
   ],
   "source": [
    "import torch\n",
    "\n",
    "a = torch.ones(3)\n",
    "a[2] = 2.0\n",
    "print(a)"
   ]
  },
  {
   "cell_type": "markdown",
   "id": "13447ad2",
   "metadata": {},
   "source": [
    "We can pass a Python list to the constructor"
   ]
  },
  {
   "cell_type": "code",
   "execution_count": 7,
   "id": "88a0f698",
   "metadata": {},
   "outputs": [
    {
     "data": {
      "text/plain": [
       "tensor([4, 1, 5, 3, 2, 1])"
      ]
     },
     "execution_count": 7,
     "metadata": {},
     "output_type": "execute_result"
    }
   ],
   "source": [
    "points = torch.tensor([4, 1, 5, 3, 2, 1])\n",
    "points"
   ]
  },
  {
   "cell_type": "markdown",
   "id": "bbd74df4",
   "metadata": {},
   "source": [
    "It would be pratical to have the first index refer to individual 2D points rather than point coordinates. We can use 2D tensors"
   ]
  },
  {
   "cell_type": "code",
   "execution_count": 9,
   "id": "66a0d135",
   "metadata": {},
   "outputs": [
    {
     "data": {
      "text/plain": [
       "tensor([[4, 1],\n",
       "        [5, 3],\n",
       "        [2, 1]])"
      ]
     },
     "execution_count": 9,
     "metadata": {},
     "output_type": "execute_result"
    }
   ],
   "source": [
    "points = torch.tensor([[4, 1], [5, 3], [2, 1]])\n",
    "points"
   ]
  },
  {
   "cell_type": "markdown",
   "id": "c09da883",
   "metadata": {},
   "source": [
    "Here, we pass a list of lists to the constructor. We can ask the tensor about its shape:"
   ]
  },
  {
   "cell_type": "code",
   "execution_count": 11,
   "id": "c928ecb4",
   "metadata": {},
   "outputs": [
    {
     "data": {
      "text/plain": [
       "torch.Size([3, 2])"
      ]
     },
     "execution_count": 11,
     "metadata": {},
     "output_type": "execute_result"
    }
   ],
   "source": [
    "points.shape"
   ]
  },
  {
   "cell_type": "markdown",
   "id": "6a623a59",
   "metadata": {},
   "source": [
    "To make keeping track of dimension concrete, imagine that we have a 3D tensor like $img\\_t$, and we want to convert it to gray-scale. We looked up typical weights for the colors to derive a single brightness value:"
   ]
  },
  {
   "cell_type": "code",
   "execution_count": 12,
   "id": "ae113ae5",
   "metadata": {},
   "outputs": [],
   "source": [
    "img_t = torch.randn(3, 5, 5) # shape [channels, rows, columns]\n",
    "weights = torch.tensor([0.2126, 0.7152, 0.0722])"
   ]
  },
  {
   "cell_type": "markdown",
   "id": "0a2f30ac",
   "metadata": {},
   "source": [
    "We introduced an additional batch dimension in $batch\\_t$; here we pretend to have a batch of 2:"
   ]
  },
  {
   "cell_type": "code",
   "execution_count": 13,
   "id": "ae1dc81f",
   "metadata": {},
   "outputs": [],
   "source": [
    "batch_t = torch.randn(2, 3, 5, 5) # shape [batch, channels, rows, columns]"
   ]
  },
  {
   "cell_type": "markdown",
   "id": "648245e2",
   "metadata": {},
   "source": [
    "The unweighted means can be written as:"
   ]
  },
  {
   "cell_type": "code",
   "execution_count": 14,
   "id": "6ac19f3b",
   "metadata": {},
   "outputs": [
    {
     "data": {
      "text/plain": [
       "(torch.Size([5, 5]), torch.Size([2, 5, 5]))"
      ]
     },
     "execution_count": 14,
     "metadata": {},
     "output_type": "execute_result"
    }
   ],
   "source": [
    "img_gray_naive = img_t.mean(-3)\n",
    "batch_gray_navie = batch_t.mean(-3)\n",
    "img_gray_naive.shape, batch_gray_navie.shape"
   ]
  },
  {
   "cell_type": "markdown",
   "id": "1f4b40ca",
   "metadata": {},
   "source": [
    "## 3.6 The tensor API\n",
    "The vast majority of operations on and between tensors are available in the $torch$ module and can also be called as methods of a tensor object."
   ]
  },
  {
   "cell_type": "code",
   "execution_count": 16,
   "id": "0dd5d54e",
   "metadata": {},
   "outputs": [
    {
     "data": {
      "text/plain": [
       "(torch.Size([3, 2]), torch.Size([2, 3]))"
      ]
     },
     "execution_count": 16,
     "metadata": {},
     "output_type": "execute_result"
    }
   ],
   "source": [
    "a = torch.ones(3, 2)\n",
    "a_t = torch.transpose(a, 0, 1)\n",
    "a.shape, a_t.shape"
   ]
  },
  {
   "cell_type": "markdown",
   "id": "de955f2b",
   "metadata": {},
   "source": [
    "or as a method of the $a$ tensor"
   ]
  },
  {
   "cell_type": "code",
   "execution_count": 17,
   "id": "863e3f16",
   "metadata": {},
   "outputs": [
    {
     "data": {
      "text/plain": [
       "(torch.Size([3, 2]), torch.Size([2, 3]))"
      ]
     },
     "execution_count": 17,
     "metadata": {},
     "output_type": "execute_result"
    }
   ],
   "source": [
    "a = torch.ones(3, 2)\n",
    "a_t = a.transpose(0, 1)\n",
    "a.shape, a_t.shape"
   ]
  },
  {
   "cell_type": "markdown",
   "id": "ca95c18c",
   "metadata": {},
   "source": [
    "## 3.9 Moving tensors to the GPU\n",
    "Every tensor can be transferred to the GPU in order to perform massively parallel, fast computations. All operations that will be performed on the tensor will be carried out using GPU-specific routines that come with Pytorch.\n",
    "\n",
    "A Pytorch tensor also has the notion of $device$, which is where on the computer the tensor data is stored."
   ]
  },
  {
   "cell_type": "code",
   "execution_count": 18,
   "id": "890572ea",
   "metadata": {},
   "outputs": [],
   "source": [
    "points_gpu = torch.tensor([[4, 0], [5, 3], [2, 1]], device = 'cuda')"
   ]
  },
  {
   "cell_type": "markdown",
   "id": "6a972574",
   "metadata": {},
   "source": [
    "We could instead copy a tensor created on the CPU onto the GPU using the $to$ method:"
   ]
  },
  {
   "cell_type": "code",
   "execution_count": 19,
   "id": "7b3a3940",
   "metadata": {},
   "outputs": [],
   "source": [
    "points_gpu = points.to(device='cuda')"
   ]
  },
  {
   "cell_type": "markdown",
   "id": "1e1be93d",
   "metadata": {},
   "source": [
    "Note that the $points\\_gpu$ tensor is not brought back to the GPU once the result has been computed. Here's what happened in this line:\n",
    "1. The $points$ tensor is copied to the GPU\n",
    "2. A new tensor is allocated on the GPU and used to store the result of multiplication\n",
    "3. A handle to that GPU tensor is returned"
   ]
  }
 ],
 "metadata": {
  "kernelspec": {
   "display_name": "Python 3",
   "language": "python",
   "name": "python3"
  },
  "language_info": {
   "codemirror_mode": {
    "name": "ipython",
    "version": 3
   },
   "file_extension": ".py",
   "mimetype": "text/x-python",
   "name": "python",
   "nbconvert_exporter": "python",
   "pygments_lexer": "ipython3",
   "version": "3.6.9"
  }
 },
 "nbformat": 4,
 "nbformat_minor": 5
}
